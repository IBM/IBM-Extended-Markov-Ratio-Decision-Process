{
 "cells": [
  {
   "cell_type": "markdown",
   "id": "11d26719",
   "metadata": {},
   "source": [
    "This is an example of running of the EMRDP algorithm."
   ]
  },
  {
   "cell_type": "code",
   "execution_count": null,
   "id": "0233b825",
   "metadata": {},
   "outputs": [],
   "source": [
    "import sys\n",
    "import os\n",
    "sys.path.append(\"../scripts\") \n",
    "sys.path.append(\"../grid\")\n",
    "from grid_emrdp import *\n",
    "from utils import *"
   ]
  },
  {
   "cell_type": "markdown",
   "id": "5a7cffd2",
   "metadata": {},
   "source": [
    "data is a pickle file containing all the required information for the algorithm to run."
   ]
  },
  {
   "cell_type": "code",
   "execution_count": 49,
   "id": "30a27af8",
   "metadata": {},
   "outputs": [],
   "source": [
    "data_file = 'grid_world_experimentID=ijcai_dataID=00d17m9g_m=5_n=5_noise=30.pickle'\n",
    "dir = os.getcwd()\n",
    "data = load_data(data_file, root=dir)"
   ]
  },
  {
   "cell_type": "code",
   "execution_count": null,
   "id": "b27685fb",
   "metadata": {},
   "outputs": [],
   "source": [
    "results = optimize(data)"
   ]
  },
  {
   "cell_type": "markdown",
   "id": "935bbde5",
   "metadata": {},
   "source": [
    "results is an output of the EMRDP algorithm."
   ]
  },
  {
   "cell_type": "code",
   "execution_count": null,
   "id": "5ae64530",
   "metadata": {},
   "outputs": [],
   "source": [
    "print(results['policy_opt'])"
   ]
  },
  {
   "cell_type": "code",
   "execution_count": null,
   "id": "b6653d10",
   "metadata": {},
   "outputs": [],
   "source": []
  }
 ],
 "metadata": {
  "kernelspec": {
   "display_name": "Python 3 (ipykernel)",
   "language": "python",
   "name": "python3"
  },
  "language_info": {
   "codemirror_mode": {
    "name": "ipython",
    "version": 3
   },
   "file_extension": ".py",
   "mimetype": "text/x-python",
   "name": "python",
   "nbconvert_exporter": "python",
   "pygments_lexer": "ipython3",
   "version": "3.8.13"
  }
 },
 "nbformat": 4,
 "nbformat_minor": 5
}
