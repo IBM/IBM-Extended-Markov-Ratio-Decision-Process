{
 "cells": [
  {
   "cell_type": "code",
   "execution_count": 1,
   "id": "0e62c258",
   "metadata": {},
   "outputs": [],
   "source": [
    "import numpy as np\n",
    "import pandas as pd\n",
    "from scipy.stats import gaussian_kde\n",
    "import scipy.stats as st\n",
    "import matplotlib.pyplot as plt"
   ]
  },
  {
   "cell_type": "code",
   "execution_count": 2,
   "id": "37580365",
   "metadata": {},
   "outputs": [],
   "source": [
    "import os\n",
    "import yaml\n",
    "import pickle"
   ]
  },
  {
   "cell_type": "code",
   "execution_count": 3,
   "id": "82c714b9",
   "metadata": {},
   "outputs": [],
   "source": [
    "import sys\n",
    "from pathlib import Path"
   ]
  },
  {
   "cell_type": "code",
   "execution_count": 4,
   "id": "1dbd9a03",
   "metadata": {},
   "outputs": [],
   "source": [
    "from grid.policy import get_ratio\n",
    "from grid.policy import occupation_measure, occupation_measure_sanity\n",
    "from grid.utils import load_all\n",
    "from grid.plotting import plot_policy, plot_occupation_measure, plot_reward, plot_ratio"
   ]
  },
  {
   "cell_type": "markdown",
   "id": "65be03c8",
   "metadata": {},
   "source": [
    "# Notebook Sections\n",
    "\n",
    "* * *\n",
    "\n",
    "1. Grid world.<br>\n",
    "2. Load algorithm results iteratively.<br>\n",
    "3. Test configurations.<br>\n",
    "4. Process results.\n",
    "\n",
    "* * *"
   ]
  },
  {
   "cell_type": "markdown",
   "id": "68064486",
   "metadata": {},
   "source": [
    "## 1. Grid World\n",
    "\n",
    "* * *\n",
    "\n",
    "Consider an $m \\times n$ grid. Each tile of the grid constitutes a state. \n",
    "\n",
    "$$ \\begin{array}{|c|c|c|}\n",
    "\\hline (0,0) & \\cdots & (0,n-1) \\\\ \\hline\n",
    "\\hline &  &  \\\\ \\hline \n",
    "\\hline (m-1,0) & \\cdots & (m-1,n-1) \\\\\n",
    "\\hline\n",
    "\\end{array} $$\n",
    "\n",
    "Actions are $\\mathcal{A} = \\{U,D,L,R,N\\}$ correspond to moving *up*, *down*, *left*, *right*, or *none* for staying put. \n",
    "\n",
    "When possible, we move with probability $1-\\delta$ under action $a=U,D,L,R$. There is a small transition probability $\\delta$ to one of the other states.\n",
    "\n",
    "The goal is to reach a pre-determined terminal cell.\n",
    "\n",
    "* * *"
   ]
  },
  {
   "cell_type": "markdown",
   "id": "5a57d444",
   "metadata": {},
   "source": [
    "## 2. Load Policy Results"
   ]
  },
  {
   "cell_type": "markdown",
   "id": "64ab1c27",
   "metadata": {},
   "source": [
    "Extract result objects locally or from `S3`."
   ]
  },
  {
   "cell_type": "code",
   "execution_count": 5,
   "id": "cc7db909",
   "metadata": {},
   "outputs": [],
   "source": [
    "is_local = True"
   ]
  },
  {
   "cell_type": "markdown",
   "id": "e4930f26",
   "metadata": {},
   "source": [
    "Limit number of results to extract."
   ]
  },
  {
   "cell_type": "code",
   "execution_count": 6,
   "id": "4fbd2027",
   "metadata": {},
   "outputs": [],
   "source": [
    "N = None"
   ]
  },
  {
   "cell_type": "markdown",
   "id": "6ac53737",
   "metadata": {},
   "source": [
    "`configs` file."
   ]
  },
  {
   "cell_type": "code",
   "execution_count": 7,
   "id": "3016e25c",
   "metadata": {},
   "outputs": [],
   "source": [
    "configs_file = 'configs.yaml'\n",
    "\n",
    "with open(configs_file,'r') as handle:\n",
    "    try:\n",
    "        configs = yaml.safe_load(handle)\n",
    "    except yaml.YAMLError as e:\n",
    "        print('({}) ERROR ... Could not load configs yaml.'.format('root'))\n",
    "        raise e        "
   ]
  },
  {
   "cell_type": "markdown",
   "id": "7282179f",
   "metadata": {},
   "source": [
    "Extract result objects."
   ]
  },
  {
   "cell_type": "code",
   "execution_count": 8,
   "id": "0e3af2e2",
   "metadata": {},
   "outputs": [],
   "source": [
    "if is_local:\n",
    "    results = load_all(root_in=configs['local']['buckets']['results'],N=N)\n",
    "else:\n",
    "    results = load_all(configs=configs,bucket_in='results',N=N)"
   ]
  },
  {
   "cell_type": "code",
   "execution_count": 9,
   "id": "5fbf412d",
   "metadata": {},
   "outputs": [
    {
     "name": "stdout",
     "output_type": "stream",
     "text": [
      "Extracted 150 result objects.\n"
     ]
    }
   ],
   "source": [
    "print('Extracted {} result objects.'.format(len(results)))"
   ]
  },
  {
   "cell_type": "code",
   "execution_count": 10,
   "id": "3d762dff",
   "metadata": {},
   "outputs": [],
   "source": [
    "dist_results = [res for res in results if not res['is_same']]\n",
    "pareto_results = [res for res in results if res['is_same']]"
   ]
  },
  {
   "cell_type": "code",
   "execution_count": 11,
   "id": "dd03b4b7",
   "metadata": {},
   "outputs": [
    {
     "name": "stdout",
     "output_type": "stream",
     "text": [
      "Number of results for distribution experiment: 150\n",
      "Number of results for Pareto experiment: 0\n"
     ]
    }
   ],
   "source": [
    "print('Number of results for distribution experiment: {}'.format(len(dist_results)))\n",
    "print('Number of results for Pareto experiment: {}'.format(len(pareto_results)))"
   ]
  },
  {
   "cell_type": "markdown",
   "id": "76573d1a",
   "metadata": {},
   "source": [
    "## 3. Test Configurations"
   ]
  },
  {
   "cell_type": "code",
   "execution_count": 12,
   "id": "56b95d96",
   "metadata": {},
   "outputs": [],
   "source": [
    "rows = []\n",
    "\n",
    "for result in dist_results:\n",
    "    \n",
    "    m = result['m']\n",
    "    n = result['n']\n",
    "    obstacle_num = len(result['obstacles'])    \n",
    "    discount = result['discount']\n",
    "    noise = result['noise']\n",
    "    is_theory = result['theory']\n",
    "    \n",
    "    rows.append([m,n,obstacle_num,discount,noise,is_theory])\n",
    "    \n",
    "dist_test_configs = pd.DataFrame(rows,columns=['m','n','obstacle_num','discount','noise','is_theory'])\n",
    "dist_test_configs.drop_duplicates(inplace=True)\n",
    "dist_test_configs.reset_index(inplace=True,drop=True)"
   ]
  },
  {
   "cell_type": "code",
   "execution_count": 13,
   "id": "dfa09014",
   "metadata": {},
   "outputs": [
    {
     "data": {
      "text/html": [
       "<div>\n",
       "<style scoped>\n",
       "    .dataframe tbody tr th:only-of-type {\n",
       "        vertical-align: middle;\n",
       "    }\n",
       "\n",
       "    .dataframe tbody tr th {\n",
       "        vertical-align: top;\n",
       "    }\n",
       "\n",
       "    .dataframe thead th {\n",
       "        text-align: right;\n",
       "    }\n",
       "</style>\n",
       "<table border=\"1\" class=\"dataframe\">\n",
       "  <thead>\n",
       "    <tr style=\"text-align: right;\">\n",
       "      <th></th>\n",
       "      <th>m</th>\n",
       "      <th>n</th>\n",
       "      <th>obstacle_num</th>\n",
       "      <th>discount</th>\n",
       "      <th>noise</th>\n",
       "      <th>is_theory</th>\n",
       "    </tr>\n",
       "  </thead>\n",
       "  <tbody>\n",
       "    <tr>\n",
       "      <th>0</th>\n",
       "      <td>5</td>\n",
       "      <td>5</td>\n",
       "      <td>3</td>\n",
       "      <td>0.95</td>\n",
       "      <td>0.3</td>\n",
       "      <td>False</td>\n",
       "    </tr>\n",
       "    <tr>\n",
       "      <th>1</th>\n",
       "      <td>5</td>\n",
       "      <td>5</td>\n",
       "      <td>3</td>\n",
       "      <td>0.95</td>\n",
       "      <td>0.2</td>\n",
       "      <td>False</td>\n",
       "    </tr>\n",
       "    <tr>\n",
       "      <th>2</th>\n",
       "      <td>5</td>\n",
       "      <td>5</td>\n",
       "      <td>3</td>\n",
       "      <td>0.95</td>\n",
       "      <td>0.1</td>\n",
       "      <td>False</td>\n",
       "    </tr>\n",
       "  </tbody>\n",
       "</table>\n",
       "</div>"
      ],
      "text/plain": [
       "   m  n  obstacle_num  discount  noise  is_theory\n",
       "0  5  5             3      0.95    0.3      False\n",
       "1  5  5             3      0.95    0.2      False\n",
       "2  5  5             3      0.95    0.1      False"
      ]
     },
     "execution_count": 13,
     "metadata": {},
     "output_type": "execute_result"
    }
   ],
   "source": [
    "dist_test_configs"
   ]
  },
  {
   "cell_type": "code",
   "execution_count": 14,
   "id": "1378df44",
   "metadata": {},
   "outputs": [],
   "source": [
    "rows = []\n",
    "\n",
    "for result in pareto_results:\n",
    "    \n",
    "    m = result['m']\n",
    "    n = result['n']\n",
    "    obstacle_num = len(result['obstacles'])    \n",
    "    discount = result['discount']\n",
    "    noise = result['noise']\n",
    "    is_theory = result['theory']\n",
    "    \n",
    "    rows.append([m,n,obstacle_num,discount,noise,is_theory])\n",
    "    \n",
    "pareto_test_configs = pd.DataFrame(rows,columns=['m','n','obstacle_num','discount','noise','is_theory'])\n",
    "pareto_test_configs.drop_duplicates(inplace=True)\n",
    "pareto_test_configs.reset_index(inplace=True,drop=True)"
   ]
  },
  {
   "cell_type": "code",
   "execution_count": 15,
   "id": "3442e5c0",
   "metadata": {},
   "outputs": [
    {
     "data": {
      "text/html": [
       "<div>\n",
       "<style scoped>\n",
       "    .dataframe tbody tr th:only-of-type {\n",
       "        vertical-align: middle;\n",
       "    }\n",
       "\n",
       "    .dataframe tbody tr th {\n",
       "        vertical-align: top;\n",
       "    }\n",
       "\n",
       "    .dataframe thead th {\n",
       "        text-align: right;\n",
       "    }\n",
       "</style>\n",
       "<table border=\"1\" class=\"dataframe\">\n",
       "  <thead>\n",
       "    <tr style=\"text-align: right;\">\n",
       "      <th></th>\n",
       "      <th>m</th>\n",
       "      <th>n</th>\n",
       "      <th>obstacle_num</th>\n",
       "      <th>discount</th>\n",
       "      <th>noise</th>\n",
       "      <th>is_theory</th>\n",
       "    </tr>\n",
       "  </thead>\n",
       "  <tbody>\n",
       "  </tbody>\n",
       "</table>\n",
       "</div>"
      ],
      "text/plain": [
       "Empty DataFrame\n",
       "Columns: [m, n, obstacle_num, discount, noise, is_theory]\n",
       "Index: []"
      ]
     },
     "execution_count": 15,
     "metadata": {},
     "output_type": "execute_result"
    }
   ],
   "source": [
    "pareto_test_configs"
   ]
  },
  {
   "cell_type": "code",
   "execution_count": 16,
   "id": "c79003c3",
   "metadata": {},
   "outputs": [],
   "source": [
    "dist_test_configs['N'] = 0\n",
    "dist_results_agg = {i: [] for i in dist_test_configs.index.values}\n",
    "cache = [] # remove duplicates\n",
    "\n",
    "for result in dist_results:\n",
    "    \n",
    "    m = result['m']\n",
    "    n = result['n']\n",
    "    obstacle_num = len(result['obstacles'])    \n",
    "    discount = result['discount']\n",
    "    noise = result['noise']\n",
    "    is_theory = result['theory']\n",
    "    data_id = result['policy_data_id']\n",
    "    \n",
    "    if (m,n,obstacle_num,discount,noise,is_theory,data_id) not in cache:\n",
    "        \n",
    "        index = dist_test_configs.loc[(dist_test_configs.m==m) & (dist_test_configs.n==n) \n",
    "                                 & (dist_test_configs.obstacle_num==obstacle_num) \n",
    "                                 & (dist_test_configs.discount==discount) \n",
    "                                 & (dist_test_configs.noise==noise) \n",
    "                                 & (dist_test_configs.is_theory==is_theory)].index.values[0]\n",
    "\n",
    "        dist_results_agg[index].append(result)        \n",
    "        cache.append((m,n,obstacle_num,discount,noise,is_theory,data_id))\n",
    "    \n",
    "    else:\n",
    "        print('Removed dulpicate for m={}, n={}, obstacle_num={}, discount={}, noise={} ,is_theory={}, data_id={}.'.format(m,n,obstacle_num,discount,noise,is_theory,data_id))\n",
    "\n",
    "for i,rs in dist_results_agg.items():\n",
    "    \n",
    "    test_num = len(rs)\n",
    "    dist_test_configs.iloc[i,-1] = test_num\n"
   ]
  },
  {
   "cell_type": "code",
   "execution_count": 17,
   "id": "76b579d2",
   "metadata": {},
   "outputs": [
    {
     "data": {
      "text/html": [
       "<div>\n",
       "<style scoped>\n",
       "    .dataframe tbody tr th:only-of-type {\n",
       "        vertical-align: middle;\n",
       "    }\n",
       "\n",
       "    .dataframe tbody tr th {\n",
       "        vertical-align: top;\n",
       "    }\n",
       "\n",
       "    .dataframe thead th {\n",
       "        text-align: right;\n",
       "    }\n",
       "</style>\n",
       "<table border=\"1\" class=\"dataframe\">\n",
       "  <thead>\n",
       "    <tr style=\"text-align: right;\">\n",
       "      <th></th>\n",
       "      <th>m</th>\n",
       "      <th>n</th>\n",
       "      <th>obstacle_num</th>\n",
       "      <th>discount</th>\n",
       "      <th>noise</th>\n",
       "      <th>is_theory</th>\n",
       "      <th>N</th>\n",
       "    </tr>\n",
       "  </thead>\n",
       "  <tbody>\n",
       "    <tr>\n",
       "      <th>0</th>\n",
       "      <td>5</td>\n",
       "      <td>5</td>\n",
       "      <td>3</td>\n",
       "      <td>0.95</td>\n",
       "      <td>0.3</td>\n",
       "      <td>False</td>\n",
       "      <td>50</td>\n",
       "    </tr>\n",
       "    <tr>\n",
       "      <th>1</th>\n",
       "      <td>5</td>\n",
       "      <td>5</td>\n",
       "      <td>3</td>\n",
       "      <td>0.95</td>\n",
       "      <td>0.2</td>\n",
       "      <td>False</td>\n",
       "      <td>50</td>\n",
       "    </tr>\n",
       "    <tr>\n",
       "      <th>2</th>\n",
       "      <td>5</td>\n",
       "      <td>5</td>\n",
       "      <td>3</td>\n",
       "      <td>0.95</td>\n",
       "      <td>0.1</td>\n",
       "      <td>False</td>\n",
       "      <td>50</td>\n",
       "    </tr>\n",
       "  </tbody>\n",
       "</table>\n",
       "</div>"
      ],
      "text/plain": [
       "   m  n  obstacle_num  discount  noise  is_theory   N\n",
       "0  5  5             3      0.95    0.3      False  50\n",
       "1  5  5             3      0.95    0.2      False  50\n",
       "2  5  5             3      0.95    0.1      False  50"
      ]
     },
     "execution_count": 17,
     "metadata": {},
     "output_type": "execute_result"
    }
   ],
   "source": [
    "dist_test_configs"
   ]
  },
  {
   "cell_type": "code",
   "execution_count": 18,
   "id": "6450fccc",
   "metadata": {},
   "outputs": [],
   "source": [
    "pareto_test_configs['N'] = 0\n",
    "pareto_results_agg = {i: [] for i in pareto_test_configs.index.values}\n",
    "cache = [] # remove duplicates\n",
    "\n",
    "for result in pareto_results:\n",
    "    \n",
    "    m = result['m']\n",
    "    n = result['n']\n",
    "    obstacle_num = len(result['obstacles'])    \n",
    "    discount = result['discount']\n",
    "    noise = result['noise']\n",
    "    is_theory = result['theory']\n",
    "    data_id = result['policy_data_id']\n",
    "    \n",
    "    if (m,n,obstacle_num,discount,noise,is_theory,data_id) not in cache:\n",
    "        \n",
    "        index = pareto_test_configs.loc[(pareto_test_configs.m==m) & (pareto_test_configs.n==n) \n",
    "                                 & (pareto_test_configs.obstacle_num==obstacle_num) \n",
    "                                 & (pareto_test_configs.discount==discount) \n",
    "                                 & (pareto_test_configs.noise==noise) \n",
    "                                 & (pareto_test_configs.is_theory==is_theory)].index.values[0]\n",
    "\n",
    "        pareto_results_agg[index].append(result)\n",
    "        cache.append((m,n,obstacle_num,discount,noise,is_theory,data_id))\n",
    "        \n",
    "    else:\n",
    "        print('Dulpicated result for m={}, n={}, obstacle_num={}, discount={}, noise={} ,is_theory={}, data_id={}'.format(m,n,obstacle_num,discount,noise,is_theory,data_id))\n",
    "        \n",
    "\n",
    "for i,rs in pareto_results_agg.items():\n",
    "    \n",
    "    test_num = len(rs)\n",
    "    pareto_test_configs.iloc[i,-1] = test_num\n",
    "    "
   ]
  },
  {
   "cell_type": "code",
   "execution_count": 19,
   "id": "fa3d7f8c",
   "metadata": {},
   "outputs": [
    {
     "data": {
      "text/html": [
       "<div>\n",
       "<style scoped>\n",
       "    .dataframe tbody tr th:only-of-type {\n",
       "        vertical-align: middle;\n",
       "    }\n",
       "\n",
       "    .dataframe tbody tr th {\n",
       "        vertical-align: top;\n",
       "    }\n",
       "\n",
       "    .dataframe thead th {\n",
       "        text-align: right;\n",
       "    }\n",
       "</style>\n",
       "<table border=\"1\" class=\"dataframe\">\n",
       "  <thead>\n",
       "    <tr style=\"text-align: right;\">\n",
       "      <th></th>\n",
       "      <th>m</th>\n",
       "      <th>n</th>\n",
       "      <th>obstacle_num</th>\n",
       "      <th>discount</th>\n",
       "      <th>noise</th>\n",
       "      <th>is_theory</th>\n",
       "      <th>N</th>\n",
       "    </tr>\n",
       "  </thead>\n",
       "  <tbody>\n",
       "  </tbody>\n",
       "</table>\n",
       "</div>"
      ],
      "text/plain": [
       "Empty DataFrame\n",
       "Columns: [m, n, obstacle_num, discount, noise, is_theory, N]\n",
       "Index: []"
      ]
     },
     "execution_count": 19,
     "metadata": {},
     "output_type": "execute_result"
    }
   ],
   "source": [
    "pareto_test_configs"
   ]
  },
  {
   "cell_type": "markdown",
   "id": "8a067d3c",
   "metadata": {},
   "source": [
    "## 3. Process Results"
   ]
  },
  {
   "cell_type": "code",
   "execution_count": 20,
   "id": "6b14a300",
   "metadata": {},
   "outputs": [],
   "source": [
    "dist_dfs = {}\n",
    "\n",
    "for i, results in dist_results_agg.items():\n",
    "    \n",
    "    rows = []\n",
    "\n",
    "    for result in results:\n",
    "\n",
    "        m = result['m']\n",
    "        n = result['n']\n",
    "        mu = result['state_dist']\n",
    "        p_alg = result['policy_opt']\n",
    "        discount = result['discount']\n",
    "        P = result['P']\n",
    "        r = result['r']\n",
    "        d = result['d']\n",
    "        tol = result['tol']\n",
    "\n",
    "        rewards = result['pareto_rewards']\n",
    "        risks = result['pareto_risks']\n",
    "        ratios = [re/ri for re, ri in zip(rewards, risks)]        \n",
    "\n",
    "        opt_ind = np.array(ratios).argmin()\n",
    "        opt_reward = rewards[opt_ind]\n",
    "        opt_risk = risks[opt_ind]\n",
    "        opt_ratio = ratios[opt_ind]\n",
    "        opt_steps = opt_ind\n",
    "\n",
    "        rewards = result['rewards_alg']\n",
    "        risks = result['risks_alg']\n",
    "        ratios = result['ratios_alg']\n",
    "\n",
    "        alg_ind = np.array(ratios).argmin()\n",
    "        alg_reward = rewards[alg_ind]\n",
    "        alg_risk = risks[alg_ind]\n",
    "        alg_ratio = ratios[alg_ind]\n",
    "        alg_steps = len(ratios)\n",
    "\n",
    "        pdict = {(int(s[0]),int(s[1])): int(a) for s,a in p_alg.items()}\n",
    "        p = {n*k[0]+k[1]: np.eye(1,5,v).flatten() for k,v in pdict.items()}\n",
    "        rho = occupation_measure(p, mu, discount, P, tol)\n",
    "        alg_policy_reward, alg_policy_risk, alg_policy_ratio = get_ratio(rho,r,d)\n",
    "\n",
    "        rows.append([opt_reward,opt_risk,opt_ratio,opt_steps,alg_reward,alg_risk,alg_ratio,alg_steps,alg_policy_reward,alg_policy_risk,alg_policy_ratio])\n",
    "        \n",
    "    df = pd.DataFrame(rows,columns=['opt_reward','opt_risk','opt_ratio','opt_steps','alg_reward','alg_risk','alg_ratio','alg_steps','alg_policy_reward','alg_policy_risk','alg_policy_ratio'])\n",
    "    \n",
    "    dist_dfs[i] = df"
   ]
  },
  {
   "cell_type": "markdown",
   "id": "86c20cae",
   "metadata": {},
   "source": [
    "## 4. Plot Results"
   ]
  },
  {
   "cell_type": "markdown",
   "id": "ea883937",
   "metadata": {},
   "source": [
    "**per test configuration**"
   ]
  },
  {
   "cell_type": "markdown",
   "id": "1ac9767c",
   "metadata": {},
   "source": [
    "Solution Quality"
   ]
  },
  {
   "cell_type": "code",
   "execution_count": 65,
   "id": "9a4999ef",
   "metadata": {},
   "outputs": [
    {
     "data": {
      "image/png": "[encoded data removed]",
      "text/plain": [
       "<Figure size 432x288 with 1 Axes>"
      ]
     },
     "metadata": {
      "needs_background": "light"
     },
     "output_type": "display_data"
    }
   ],
   "source": [
    "c = 2\n",
    "\n",
    "bin_num = 10\n",
    "\n",
    "xtickmax = 10\n",
    "ytickmax = 25\n",
    "\n",
    "config = dist_test_configs.iloc[c,:]\n",
    "samples = (dist_dfs[c]['alg_policy_ratio'] / dist_dfs[c]['opt_ratio'])\n",
    "\n",
    "xmin = 0.0\n",
    "xmax = 20.0\n",
    "pval = 0.05\n",
    "xs = np.linspace(xmin,xmax,1000)\n",
    "kde = gaussian_kde(samples)\n",
    "density = kde.pdf(xs)\n",
    "argmax = np.argmax(density)\n",
    "modal = xs[argmax]\n",
    "ci = st.norm.interval(alpha=1-pval,loc=np.mean(samples),scale=st.sem(samples))\n",
    "average = samples.mean()\n",
    "binBoundaries = np.linspace(1,xtickmax,xtickmax)\n",
    "\n",
    "plt.hist(samples,bins=binBoundaries)\n",
    "plt.xticks(np.arange(1, xtickmax+1, step=1.0))\n",
    "plt.yticks(np.arange(0, ytickmax+5, step=5.0))\n",
    "plt.title('N={}, h={}, w={}, obstacle_num={},\\ndiscount={}, noise={}, OPE={}\\nKDE mode={:.2f},\\nmean={:.2f}+-{:.2f} (p={})\\n'.format(config['N'],config['m'],config['n'],config['obstacle_num'],\n",
    "                              config['discount'],config['noise'],'Simulator' if config['is_theory'] else 'QE',modal,average,(ci[1]-ci[0])/2,pval),fontsize=16)\n",
    "plt.xlabel('Algorithm Optimal Ratio / Theoretical Optimal Ratio',fontsize=12)\n",
    "plt.ylabel('# Experiments',fontsize=12)\n",
    "plt.xlim(1, xtickmax)\n",
    "plt.ylim(0, ytickmax)\n",
    "plt.show()"
   ]
  },
  {
   "cell_type": "markdown",
   "id": "246a8e01",
   "metadata": {},
   "source": [
    "Number of Steps"
   ]
  },
  {
   "cell_type": "code",
   "execution_count": 25,
   "id": "66bebcca",
   "metadata": {},
   "outputs": [
    {
     "name": "stdout",
     "output_type": "stream",
     "text": [
      "#steps to optimum along theoretical Pareto: 14.96 +- 0.56 (p=0.05)\n"
     ]
    }
   ],
   "source": [
    "steps = []\n",
    "\n",
    "for c, df in dist_dfs.items():\n",
    "    config = dist_test_configs.iloc[c,:]\n",
    "    if not config['is_theory']:\n",
    "        steps.append(df['opt_steps'])\n",
    "    \n",
    "steps = pd.concat(steps).values\n",
    "\n",
    "pval = 0.05\n",
    "steps_ci = st.norm.interval(alpha=1-pval,loc=np.mean(steps),scale=st.sem(steps))\n",
    "steps_average = steps.mean()\n",
    "print('#steps to optimum along theoretical Pareto: {:.2f} +- {:.2f} (p={:.2f})'.format(steps_average,(steps_ci[1]-steps_ci[0])/2,pval))"
   ]
  },
  {
   "cell_type": "code",
   "execution_count": 67,
   "id": "3aeb30d9",
   "metadata": {},
   "outputs": [
    {
     "data": {
      "image/png": "[encoded data removed]",
      "text/plain": [
       "<Figure size 432x288 with 1 Axes>"
      ]
     },
     "metadata": {
      "needs_background": "light"
     },
     "output_type": "display_data"
    }
   ],
   "source": [
    "c = 0\n",
    "\n",
    "config = dist_test_configs.iloc[c,:]\n",
    "samples = (dist_dfs[c]['alg_steps'] / dist_dfs[c]['opt_steps'])\n",
    "steps = dist_dfs[c]['opt_steps']\n",
    "\n",
    "xmin = 0.0\n",
    "xmax = 5.0\n",
    "pval = 0.05\n",
    "xs = np.linspace(xmin,xmax,1000)\n",
    "kde = gaussian_kde(samples)\n",
    "density = kde.pdf(xs)\n",
    "argmax = np.argmax(density)\n",
    "modal = xs[argmax]\n",
    "ci = st.norm.interval(alpha=1-pval,loc=np.mean(samples),scale=st.sem(samples))\n",
    "average = samples.mean()\n",
    "\n",
    "xtickmax = 5\n",
    "ytickmax = 20\n",
    "bin_num = 10\n",
    "\n",
    "bins = np.linspace(0,xtickmax,bin_num+1)\n",
    "plt.hist(samples,bins=bins)\n",
    "plt.xticks(np.arange(1, xtickmax+1, step=1.0))\n",
    "plt.yticks(np.arange(0, ytickmax+5, step=5.0))\n",
    "plt.title('N={}, h={}, w={}, obstacle_num={},\\ndiscount={}, noise={}, OPE={}\\nKDE mode={:.2f}\\nmean={:.2f}+-{:.2f} (p={})\\n'.format(config['N'],config['m'],config['n'],config['obstacle_num'],\n",
    "                              config['discount'],config['noise'],'Simulator' if config['is_theory'] else 'QE',modal,average,(ci[1]-ci[0])/2,pval),fontsize=16)\n",
    "plt.xlabel('Algorithm #Steps / Theoretical #Steps',fontsize=12)\n",
    "plt.ylabel('# Experiments',fontsize=12)\n",
    "plt.xlim(0, xtickmax)\n",
    "plt.ylim(0, ytickmax)\n",
    "plt.show()"
   ]
  },
  {
   "cell_type": "markdown",
   "id": "9e0c8bd1",
   "metadata": {},
   "source": [
    "Pareto"
   ]
  },
  {
   "cell_type": "code",
   "execution_count": null,
   "id": "c06940a8",
   "metadata": {},
   "outputs": [],
   "source": [
    "c = 0\n",
    "\n",
    "if pareto_test_configs.size>0:\n",
    "\n",
    "    config = pareto_test_configs.iloc[c,:]\n",
    "\n",
    "    fig = plt.figure(figsize=(15,5))\n",
    "    ax = fig.add_subplot()\n",
    "\n",
    "    for k, result in enumerate(pareto_results_agg[c]):\n",
    "\n",
    "        if k==0:\n",
    "\n",
    "            rewards = result['pareto_rewards']\n",
    "            risks = result['pareto_risks']\n",
    "\n",
    "            xs = np.array(risks)\n",
    "            ys = np.array(rewards) # / np.array(risks)    \n",
    "            n = ys.argmin()+1\n",
    "\n",
    "            if n>1:\n",
    "\n",
    "                for i in range(n-1):\n",
    "                    if i==0:\n",
    "                        ax.plot(xs[i:i+2], ys[i:i+2],c='b',alpha=0.5, linewidth=3, label='Theoretical')\n",
    "                    else:\n",
    "                        ax.plot(xs[i:i+2], ys[i:i+2],c='b',alpha=0.5, linewidth=3)\n",
    "\n",
    "\n",
    "        rewards = result['rewards_alg']\n",
    "        risks = result['risks_alg']\n",
    "\n",
    "        xs = np.array(risks)\n",
    "        ys = np.array(rewards) # / np.array(risks)    \n",
    "        n = xs.size\n",
    "\n",
    "        for i in range(n-1):\n",
    "            if i==0 and k==0:\n",
    "                ax.plot(xs[i:i+2], ys[i:i+2], c='orange', alpha=0.5, linewidth=3, label='Algorithm (Simulator)')\n",
    "            else:\n",
    "                ax.plot(xs[i:i+2], ys[i:i+2], c='orange', alpha=0.5, linewidth=3)\n",
    "\n",
    "        if not pareto_test_configs.iloc[c]['is_theory']:\n",
    "\n",
    "            rewards = result['rewards_alg_true']\n",
    "            risks = result['risks_alg_true']\n",
    "\n",
    "            xs = np.array(risks)\n",
    "            ys = np.array(rewards) / np.array(risks)    \n",
    "            n = xs.size\n",
    "\n",
    "            for i in range(n-1):\n",
    "                if i==0 and k==0:\n",
    "                    ax.plot(xs[i:i+2], ys[i:i+2], c='grey', alpha=0.5, linewidth=3, label='Algorithm (QE)')\n",
    "                else:\n",
    "                    ax.plot(xs[i:i+2], ys[i:i+2], c='grey', alpha=0.5, linewidth=3)\n",
    "\n",
    "    ax.set_xlabel(r'Risk $\\alpha$', fontsize=18)\n",
    "    ax.set_ylabel(r'Reward $\\mathfrak{r}(\\pi)$', fontsize=18)\n",
    "    # ax.set_ylabel(r'Ratio $\\mathfrak{r}(\\pi) / \\mathfrak{d}(\\pi)$', fontsize=18)\n",
    "    # plt.xticks(np.arange(-5.25, -1.5, step=0.25))\n",
    "    # plt.yticks(np.arange(0, 0.6, step=0.1))\n",
    "\n",
    "    ax.grid(which='major', axis='x')\n",
    "    ax.grid(which='major', alpha=0.6)\n",
    "\n",
    "    plt.title(r'Pareto Front for the Ratio as a Function of Risk $\\alpha$'+'\\nN={}, h={}, w={}, obstacle_num={},\\ndiscount={}, noise={}, OPE={}'.format(config['N'],config['m'],config['n'],config['obstacle_num'],\n",
    "                                  config['discount'],config['noise'],'Simulator' if config['is_theory'] else 'QE'),fontsize=18)\n",
    "    plt.legend(fontsize=14)\n",
    "\n",
    "    plt.show()            \n"
   ]
  },
  {
   "cell_type": "code",
   "execution_count": null,
   "id": "294d1fdf",
   "metadata": {},
   "outputs": [],
   "source": []
  }
 ],
 "metadata": {
  "kernelspec": {
   "display_name": "Python 3 (ipykernel)",
   "language": "python",
   "name": "python3"
  },
  "language_info": {
   "codemirror_mode": {
    "name": "ipython",
    "version": 3
   },
   "file_extension": ".py",
   "mimetype": "text/x-python",
   "name": "python",
   "nbconvert_exporter": "python",
   "pygments_lexer": "ipython3",
   "version": "3.8.0"
  }
 },
 "nbformat": 4,
 "nbformat_minor": 5
}
