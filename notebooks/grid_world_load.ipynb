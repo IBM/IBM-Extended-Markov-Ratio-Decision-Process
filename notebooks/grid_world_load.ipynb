{
 "cells": [
  {
   "cell_type": "code",
   "execution_count": 1,
   "id": "0e62c258",
   "metadata": {},
   "outputs": [],
   "source": [
    "import numpy as np\n",
    "import pandas as pd"
   ]
  },
  {
   "cell_type": "code",
   "execution_count": 2,
   "id": "37580365",
   "metadata": {},
   "outputs": [],
   "source": [
    "import sys\n",
    "import yaml\n",
    "from pathlib import Path\n",
    "sys.path.append(str(Path.cwd().parent))"
   ]
  },
  {
   "cell_type": "code",
   "execution_count": 3,
   "id": "1dbd9a03",
   "metadata": {},
   "outputs": [],
   "source": [
    "from grid.policy import occupation_measure, get_ratio\n",
    "from grid.utils import load_data, load_all\n",
    "from grid.plotting import plot_policy, plot_occupation_measure, plot_reward, plot_ratio"
   ]
  },
  {
   "cell_type": "code",
   "execution_count": null,
   "id": "9695e3b5",
   "metadata": {},
   "outputs": [],
   "source": [
    "configs_file = 'configs.yaml'\n",
    "\n",
    "with open(configs_file,'r') as handle:\n",
    "    try:\n",
    "        configs = yaml.safe_load(handle)\n",
    "    except yaml.YAMLError as e:\n",
    "        print('({}) ERROR ... Could not load configs yaml.'.format('root'))\n",
    "        raise e        "
   ]
  },
  {
   "cell_type": "markdown",
   "id": "65be03c8",
   "metadata": {},
   "source": [
    "# Notebook Sections\n",
    "\n",
    "* * *\n",
    "\n",
    "1. Grid world.<br>\n",
    "2. Load single data object.<br>\n",
    "    a. either from local file system.<br>\n",
    "    b. or from COS bucket.<br>\n",
    "3. Retrieve simulation information.<br>\n",
    "4. Load data objects iteratively.\n",
    "\n",
    "* * *"
   ]
  },
  {
   "cell_type": "markdown",
   "id": "68064486",
   "metadata": {},
   "source": [
    "## 1. Grid World\n",
    "\n",
    "* * *\n",
    "\n",
    "Consider an $m \\times n$ grid. Each tile of the grid constitutes a state. \n",
    "\n",
    "$$ \\begin{array}{|c|c|c|}\n",
    "\\hline (0,0) & \\cdots & (0,n-1) \\\\ \\hline\n",
    "\\hline &  &  \\\\ \\hline \n",
    "\\hline (m-1,0) & \\cdots & (m-1,n-1) \\\\\n",
    "\\hline\n",
    "\\end{array} $$\n",
    "\n",
    "Actions are $\\mathcal{A} = \\{U,D,L,R,N\\}$ correspond to moving *up*, *down*, *left*, *right*, or *none* for staying put. \n",
    "\n",
    "When possible, we move with probability $1-\\delta$ under action $a=U,D,L,R$. There is a small transition probability $\\delta$ to one of the other states.\n",
    "\n",
    "The goal is to reach a pre-determined terminal cell.\n",
    "\n",
    "* * *"
   ]
  },
  {
   "cell_type": "markdown",
   "id": "5a57d444",
   "metadata": {},
   "source": [
    "## 2. Load Single Data Object\n",
    "\n",
    "Load a single generated policy data object:\n",
    "* either from local file system.\n",
    "* or from COS bucket.\n",
    "\n",
    "Specify ```policy_data_obj_file``` to load."
   ]
  },
  {
   "cell_type": "markdown",
   "id": "708ed24e",
   "metadata": {},
   "source": [
    "```is_local = True``` if loading from local system. Then specify file ```root_in``` and ```root_out```.\n",
    "\n",
    "```is_local = False``` if loading from COS bucket. Then specify ```configs.yaml``` path."
   ]
  },
  {
   "cell_type": "code",
   "execution_count": 4,
   "id": "69f4dea4",
   "metadata": {},
   "outputs": [],
   "source": [
    "is_local = False"
   ]
  },
  {
   "cell_type": "code",
   "execution_count": 5,
   "id": "5ff8836e",
   "metadata": {},
   "outputs": [],
   "source": [
    "policy_data_obj_file = ''"
   ]
  },
  {
   "cell_type": "code",
   "execution_count": 6,
   "id": "3016e25c",
   "metadata": {},
   "outputs": [],
   "source": [
    "if is_local:\n",
    "    \n",
    "    root_in = configs['local']['buckets']['data']\n",
    "    root_out = configs['local']['buckets']['data_dest']"
   ]
  },
  {
   "cell_type": "markdown",
   "id": "75135380",
   "metadata": {},
   "source": [
    "Load pickled policy data object."
   ]
  },
  {
   "cell_type": "code",
   "execution_count": 7,
   "id": "18de6411",
   "metadata": {},
   "outputs": [],
   "source": [
    "if len(policy_data_obj_file)>0:\n",
    "    \n",
    "    if is_local:\n",
    "\n",
    "        data = load_data(policy_data_obj_file,root=root_in)\n",
    "\n",
    "    else:\n",
    "\n",
    "        data = load_data(policy_data_obj_file,bucket='data_dest',configs=configs_file)\n",
    "\n",
    "    assert data is not None, 'Data object load failed!'"
   ]
  },
  {
   "cell_type": "markdown",
   "id": "10ceeef5",
   "metadata": {},
   "source": [
    "## 3. Retrieve Information\n",
    "\n",
    "Retrieve relevant information from policy data object."
   ]
  },
  {
   "cell_type": "markdown",
   "id": "5a5a14c4",
   "metadata": {},
   "source": [
    "Grid specs."
   ]
  },
  {
   "cell_type": "code",
   "execution_count": 8,
   "id": "fe867149",
   "metadata": {},
   "outputs": [],
   "source": [
    "if len(policy_data_obj_file)>0:\n",
    "    \n",
    "    m, n = data['m'], data['n']\n",
    "\n",
    "    actions = ['U','D','L','R','N']\n",
    "    states = [*range(m*n)]\n",
    "\n",
    "    state_num = len(states)\n",
    "    action_num = len(actions)\n",
    "\n",
    "    discount = data['discount']\n",
    "    noise = data['noise']\n",
    "\n",
    "    tol = data['tol']\n",
    "    atol = abs(int(np.log10(tol)))-2\n",
    "\n",
    "    final = data['final']\n",
    "    obstacles = data['obstacles']\n",
    "    state_dist = data['state_dist']\n",
    "    init_state = data['init_state']\n",
    "\n",
    "    P = data['P']\n",
    "    r = data['r']\n",
    "    d = data['d']\n",
    "\n",
    "    p_opt = data['p_opt']\n",
    "    rho_opt = occupation_measure(p_opt,state_dist,discount,P,tol)\n",
    "    reward_opt, risk_opt, ratio_opt = get_ratio(rho_opt,r,d)\n",
    "\n",
    "    print('Reward in optimal policy: {:.3f}\\nRisk in optimal policy: {:.3f}\\nRatio in optimal policy: {:.3f}'.format(reward_opt,risk_opt,ratio_opt))\n",
    "\n",
    "    plot_policy(p_opt,states,actions,m,n,final,obstacles)"
   ]
  },
  {
   "cell_type": "markdown",
   "id": "0c2b8f78",
   "metadata": {},
   "source": [
    "Data Policy: The data policy will not be deterministic, but some noised version of the optimal policy."
   ]
  },
  {
   "cell_type": "code",
   "execution_count": 9,
   "id": "e5030a0d",
   "metadata": {},
   "outputs": [],
   "source": [
    "if len(policy_data_obj_file)>0:\n",
    "    \n",
    "    p_data = data['p_data']\n",
    "    rho_data = occupation_measure(p_data,state_dist,discount,P,tol)\n",
    "    reward_data, risk_data, ratio_data = get_ratio(rho_data,r,d)\n",
    "\n",
    "    print('Reward in data policy: {:.3f}\\nRisk in data policy: {:.3f}\\nRatio in data policy: {:.3f}'.format(reward_data,risk_data,ratio_data))\n",
    "\n",
    "    plot_policy(p_data,states,actions,m,n,final,obstacles)\n",
    "    plot_occupation_measure(rho_data,states,actions,m,n,tol=1e-8)"
   ]
  },
  {
   "cell_type": "markdown",
   "id": "2e71ac89",
   "metadata": {},
   "source": [
    "Pareto Front."
   ]
  },
  {
   "cell_type": "code",
   "execution_count": 10,
   "id": "ca366c05",
   "metadata": {},
   "outputs": [],
   "source": [
    "if len(policy_data_obj_file)>0:\n",
    "    \n",
    "    rewards, risks = data['pareto_rewards'], data['pareto_risks']\n",
    "\n",
    "    for i, (re, ri) in enumerate(zip(rewards, risks)):\n",
    "        print('Iteration {}: reward {:.3f}, risk {:.3f}, ratio: {:.3f}'.format(i,(re),ri,(re)/(ri)))\n",
    "\n",
    "    plot_reward(risks, rewards, atol=2, figsize=(17,5))\n",
    "    plot_ratio(risks, rewards, atol=2, figsize=(17,5))"
   ]
  },
  {
   "cell_type": "markdown",
   "id": "e9579ab7",
   "metadata": {},
   "source": [
    "## 4. Load Iteratively\n",
    "\n",
    "Load all policy data objects in the ```data``` bucket.\n",
    "\n",
    "Choose whether to remove data object from its current bucket to a destination bucket by specifying `is_move`.\n",
    "\n",
    "Limit the number of retrieved data objects by specifying `N`."
   ]
  },
  {
   "cell_type": "code",
   "execution_count": 11,
   "id": "129f66bc",
   "metadata": {},
   "outputs": [],
   "source": [
    "is_local = False"
   ]
  },
  {
   "cell_type": "code",
   "execution_count": 12,
   "id": "3963da6c",
   "metadata": {},
   "outputs": [],
   "source": [
    "if is_local:\n",
    "    \n",
    "    root_in = configs['local']['buckets']['data']\n",
    "    root_out = configs['local']['buckets']['data_dest']\n",
    "    \n",
    "else:\n",
    "    \n",
    "    source_bucket = 'data'\n",
    "    archive_bucket = 'data_dest'"
   ]
  },
  {
   "cell_type": "code",
   "execution_count": 13,
   "id": "9995afb7",
   "metadata": {},
   "outputs": [],
   "source": [
    "is_move = False"
   ]
  },
  {
   "cell_type": "code",
   "execution_count": 14,
   "id": "50d6c9b4",
   "metadata": {},
   "outputs": [],
   "source": [
    "if is_local:\n",
    "\n",
    "    if is_move:\n",
    "    \n",
    "        datas = load_all(root_in=root_in, root_out=root_out, N=5)\n",
    "    \n",
    "    else:\n",
    "        \n",
    "        datas = load_all(root_in=root_in, N=5)\n",
    "    \n",
    "else:\n",
    "    \n",
    "    datas = load_all(configs=configs_file, N=5, bucket_in=source_bucket, bucket_out=archive_bucket)"
   ]
  },
  {
   "cell_type": "code",
   "execution_count": 15,
   "id": "8afef185",
   "metadata": {},
   "outputs": [
    {
     "name": "stdout",
     "output_type": "stream",
     "text": [
      "Uploaded 5 objects.\n"
     ]
    }
   ],
   "source": [
    "if len(datas)>0:\n",
    "\n",
    "    print('Uploaded {} objects.'.format(len(datas)))\n",
    "\n",
    "else:\n",
    "    \n",
    "    print('Nothing uploaded.')"
   ]
  },
  {
   "cell_type": "code",
   "execution_count": null,
   "id": "82f9f3f6",
   "metadata": {},
   "outputs": [],
   "source": []
  }
 ],
 "metadata": {
  "kernelspec": {
   "display_name": "Python 3 (ipykernel)",
   "language": "python",
   "name": "python3"
  },
  "language_info": {
   "codemirror_mode": {
    "name": "ipython",
    "version": 3
   },
   "file_extension": ".py",
   "mimetype": "text/x-python",
   "name": "python",
   "nbconvert_exporter": "python",
   "pygments_lexer": "ipython3",
   "version": "3.8.0"
  },
  "vscode": {
   "interpreter": {
    "hash": "a104176a7ff0beee4d51355fbbde94b7285f933e003b09d0cf617c5cb540a31a"
   }
  }
 },
 "nbformat": 4,
 "nbformat_minor": 5
}
