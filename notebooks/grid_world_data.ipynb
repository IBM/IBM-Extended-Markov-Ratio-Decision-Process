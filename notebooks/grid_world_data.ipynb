{
 "cells": [
  {
   "cell_type": "code",
   "execution_count": 1,
   "id": "0e62c258",
   "metadata": {},
   "outputs": [],
   "source": [
    "import numpy as np\n",
    "import pandas as pd\n",
    "from scipy.stats import norm"
   ]
  },
  {
   "cell_type": "code",
   "execution_count": 2,
   "id": "37580365",
   "metadata": {},
   "outputs": [],
   "source": [
    "import os\n",
    "import yaml\n",
    "import pickle\n",
    "from datetime import datetime"
   ]
  },
  {
   "cell_type": "code",
   "execution_count": 3,
   "id": "82c714b9",
   "metadata": {},
   "outputs": [],
   "source": [
    "import sys\n",
    "from pathlib import Path\n",
    "sys.path.append(str(Path.cwd().parent))"
   ]
  },
  {
   "cell_type": "code",
   "execution_count": 4,
   "id": "1dbd9a03",
   "metadata": {},
   "outputs": [],
   "source": [
    "from grid.policy import get_state, next_state, get_cell_i, get_cell_j\n",
    "from grid.policy import get_policy, get_ratio, sample_policy, policy_noising, support, policy_data\n",
    "from grid.policy import occupation_measure, occupation_measure_sanity\n",
    "from grid.utils import sample_standard_simplex, generate_id\n",
    "from grid.params import transition_probability_matrix, discounted_probability_matrix, expected_reward_vector, expected_risk_vector\n",
    "from grid.optimize import optimal_policy\n",
    "from grid.plotting import plot_policy, plot_occupation_measure, plot_reward, plot_ratio"
   ]
  },
  {
   "cell_type": "code",
   "execution_count": null,
   "id": "9d225677",
   "metadata": {},
   "outputs": [],
   "source": [
    "configs_file = 'configs.yaml'\n",
    "\n",
    "with open(configs_file,'r') as handle:\n",
    "    try:\n",
    "        configs = yaml.safe_load(handle)\n",
    "    except yaml.YAMLError as e:\n",
    "        print('({}) ERROR ... Could not load configs yaml.'.format('root'))\n",
    "        raise e"
   ]
  },
  {
   "cell_type": "markdown",
   "id": "65be03c8",
   "metadata": {},
   "source": [
    "# Notebook Sections\n",
    "\n",
    "* * *\n",
    "\n",
    "(1) Grid world.<br>\n",
    "(2) Hyper-parameters.<br>\n",
    "(3) Transition probabilities.<br>\n",
    "(4) Reward.<br>\n",
    "(5) Risk.<br>\n",
    "(6) Sample policy.<br>\n",
    "(7) Optimal policy.<br>\n",
    "(8) Policy test.<br>\n",
    "(9) Policy noising.<br>\n",
    "(10) Policy data.<br>\n",
    "(11) Policy extraction.<br>\n",
    "\n",
    "* * *"
   ]
  },
  {
   "cell_type": "markdown",
   "id": "68064486",
   "metadata": {},
   "source": [
    "## Grid World\n",
    "\n",
    "* * *\n",
    "\n",
    "Consider an $m \\times n$ grid. Each tile of the grid constitutes a state. \n",
    "\n",
    "$$ \\begin{array}{|c|c|c|}\n",
    "\\hline (0,0) & \\cdots & (0,n-1) \\\\ \\hline\n",
    "\\hline &  &  \\\\ \\hline \n",
    "\\hline (m-1,0) & \\cdots & (m-1,n-1) \\\\\n",
    "\\hline\n",
    "\\end{array} $$\n",
    "\n",
    "Actions are $\\mathcal{A} = \\{U,D,L,R,N\\}$ correspond to moving *up*, *down*, *left*, *right*, or *none* for staying put. \n",
    "\n",
    "When possible, we move with probability $1-\\delta$ under action $a=U,D,L,R$. There is a small transition probability $\\delta$ to one of the other states.\n",
    "\n",
    "The goal is to reach a pre-determined terminal cell.\n",
    "\n",
    "* * *"
   ]
  },
  {
   "cell_type": "markdown",
   "id": "5a57d444",
   "metadata": {},
   "source": [
    "## Hyper-parameters\n",
    "\n",
    "* <u>User-defined hyper-params</u>: grid dimensions, $\\delta$, discount, number of obstacles, time horizon, etc.\n",
    "* <u>Fixed</u>: derived hyper-params.\n",
    "* <u>Sampled hyper-params</u>: allow variability in the grid-world problem w.r.t. the obstacles, initial state distribution, initial state."
   ]
  },
  {
   "cell_type": "markdown",
   "id": "9ee884a7",
   "metadata": {},
   "source": [
    "### * User-defined"
   ]
  },
  {
   "cell_type": "markdown",
   "id": "4e6507f8",
   "metadata": {},
   "source": [
    "Grid dimensions."
   ]
  },
  {
   "cell_type": "code",
   "execution_count": 5,
   "id": "8239cbb8",
   "metadata": {},
   "outputs": [],
   "source": [
    "m, n = 4, 5"
   ]
  },
  {
   "cell_type": "markdown",
   "id": "38c1c143",
   "metadata": {},
   "source": [
    "Probability for random state under actions U / D / L / R."
   ]
  },
  {
   "cell_type": "code",
   "execution_count": 6,
   "id": "847d383a",
   "metadata": {},
   "outputs": [],
   "source": [
    "delta = 0.05"
   ]
  },
  {
   "cell_type": "markdown",
   "id": "ca64c531",
   "metadata": {},
   "source": [
    "Discount factor."
   ]
  },
  {
   "cell_type": "code",
   "execution_count": 7,
   "id": "676a0421",
   "metadata": {},
   "outputs": [],
   "source": [
    "discount = 0.9"
   ]
  },
  {
   "cell_type": "markdown",
   "id": "6db44452",
   "metadata": {},
   "source": [
    "Number of obstacles in grid."
   ]
  },
  {
   "cell_type": "code",
   "execution_count": 8,
   "id": "0070eed4",
   "metadata": {},
   "outputs": [],
   "source": [
    "obstacle_num = 2"
   ]
  },
  {
   "cell_type": "markdown",
   "id": "65a9f0d3",
   "metadata": {},
   "source": [
    "Time horizon: number of data points in policy dataset."
   ]
  },
  {
   "cell_type": "code",
   "execution_count": 9,
   "id": "d1acf33d",
   "metadata": {},
   "outputs": [],
   "source": [
    "T = 1000"
   ]
  },
  {
   "cell_type": "markdown",
   "id": "ea2fcf94",
   "metadata": {},
   "source": [
    "Noise added to optimal policy to generate data. Noise level in $[0,1]$, with $1$ giving rise to a completely random (non-deterministic) policy."
   ]
  },
  {
   "cell_type": "code",
   "execution_count": 10,
   "id": "bfb26fca",
   "metadata": {},
   "outputs": [],
   "source": [
    "noise = 0.05"
   ]
  },
  {
   "cell_type": "markdown",
   "id": "250f0428",
   "metadata": {},
   "source": [
    "Noise added to expected reward / risk vectors."
   ]
  },
  {
   "cell_type": "code",
   "execution_count": 11,
   "id": "077370d4",
   "metadata": {},
   "outputs": [],
   "source": [
    "epsilon = 0.01"
   ]
  },
  {
   "cell_type": "markdown",
   "id": "6ffb55e6",
   "metadata": {},
   "source": [
    "Tolerance for near-zero results."
   ]
  },
  {
   "cell_type": "code",
   "execution_count": 12,
   "id": "da1d8c65",
   "metadata": {},
   "outputs": [],
   "source": [
    "tol = 1e-6"
   ]
  },
  {
   "cell_type": "markdown",
   "id": "c5123506",
   "metadata": {},
   "source": [
    "Directory to store generated data pickle."
   ]
  },
  {
   "cell_type": "code",
   "execution_count": 13,
   "id": "e56749c8",
   "metadata": {},
   "outputs": [],
   "source": [
    "root = configs['local']['buckets']['data']"
   ]
  },
  {
   "cell_type": "markdown",
   "id": "1b2182dd",
   "metadata": {},
   "source": [
    "### * Fixed"
   ]
  },
  {
   "cell_type": "code",
   "execution_count": 14,
   "id": "d61cffa8",
   "metadata": {},
   "outputs": [],
   "source": [
    "actions = ['U','D','L','R','N']"
   ]
  },
  {
   "cell_type": "code",
   "execution_count": 15,
   "id": "62809d40",
   "metadata": {},
   "outputs": [],
   "source": [
    "states = [*range(m*n)]"
   ]
  },
  {
   "cell_type": "code",
   "execution_count": 16,
   "id": "e81ad0b6",
   "metadata": {},
   "outputs": [],
   "source": [
    "state_num = len(states)\n",
    "action_num = len(actions)"
   ]
  },
  {
   "cell_type": "code",
   "execution_count": 17,
   "id": "7f5e7200",
   "metadata": {},
   "outputs": [],
   "source": [
    "atol = abs(int(np.log10(tol)))-2"
   ]
  },
  {
   "cell_type": "markdown",
   "id": "a88867dc",
   "metadata": {},
   "source": [
    "Terminal cell."
   ]
  },
  {
   "cell_type": "code",
   "execution_count": 18,
   "id": "e30bcedd",
   "metadata": {},
   "outputs": [],
   "source": [
    "final = get_state(m-1,n-1,m,n)\n",
    "states_wo_final = list(set(states) - set([final]))"
   ]
  },
  {
   "cell_type": "markdown",
   "id": "7f86d27e",
   "metadata": {},
   "source": [
    "### * Sampled"
   ]
  },
  {
   "cell_type": "markdown",
   "id": "0e7b80d8",
   "metadata": {},
   "source": [
    "Sampled obstacle cells."
   ]
  },
  {
   "cell_type": "code",
   "execution_count": 19,
   "id": "51e8afcd",
   "metadata": {},
   "outputs": [],
   "source": [
    "obstacles = next_state(states_wo_final,size=obstacle_num)"
   ]
  },
  {
   "cell_type": "code",
   "execution_count": 20,
   "id": "9839d89c",
   "metadata": {},
   "outputs": [
    {
     "data": {
      "text/plain": [
       "array([12,  3])"
      ]
     },
     "execution_count": 20,
     "metadata": {},
     "output_type": "execute_result"
    }
   ],
   "source": [
    "obstacles"
   ]
  },
  {
   "cell_type": "markdown",
   "id": "82935f12",
   "metadata": {},
   "source": [
    "Sampled initial state distribution."
   ]
  },
  {
   "cell_type": "code",
   "execution_count": 21,
   "id": "757c1f9d",
   "metadata": {},
   "outputs": [],
   "source": [
    "state_dist = sample_standard_simplex(m*n)"
   ]
  },
  {
   "cell_type": "markdown",
   "id": "047a46f0",
   "metadata": {},
   "source": [
    "Sampled initial cell."
   ]
  },
  {
   "cell_type": "code",
   "execution_count": 22,
   "id": "a8ab77be",
   "metadata": {},
   "outputs": [],
   "source": [
    "init_state = next_state(states,state_dist)[0]"
   ]
  },
  {
   "cell_type": "markdown",
   "id": "a9390c24",
   "metadata": {},
   "source": [
    "## Transition Probabilities\n",
    "\n",
    "For $a \\in \\mathcal{A}$, the transition matrix $P(a) \\in {M}_{\\vert \\mathcal{S} \\vert \\times \\lvert \\mathcal{S} \\rvert}(\\mathbb{R})$ is defined as\n",
    "$$\\begin{align*}\n",
    "    & P(a)_{s',s} = \\Pr[s' \\vert s,a]\n",
    "\\end{align*}$$\n",
    "\n",
    "i.e., the probability of transitioning from state $s$ to state $s'$ under action $a$. "
   ]
  },
  {
   "cell_type": "code",
   "execution_count": 23,
   "id": "d40d27de",
   "metadata": {},
   "outputs": [],
   "source": [
    "P = transition_probability_matrix(m,n,delta,tol=tol)"
   ]
  },
  {
   "cell_type": "markdown",
   "id": "db981e66",
   "metadata": {},
   "source": [
    "## Reward\n",
    "\n",
    "Consider $c \\in \\mathbb{R}^{\\vert S \\vert}$ and define the expected reward vector $r \\in \\mathbb{R}^{\\vert S \\vert \\times \\vert \\mathcal{A} \\vert}$ to be\n",
    "\n",
    "$$\\begin{align*}\n",
    "    & r(s,a) = \\sum_{s' \\in \\mathcal{S}} c_{s'} P(a)_{s',s} \n",
    "\\end{align*}$$\n",
    "\n",
    "Pick some grid state $s_f$ as the final destination. Let $c_{s_f} = 0$ and $c_{s} = -1$ for $s \\neq s_f$. Maximizing the reward would then imply reaching the destination by the shortest route. \n",
    "\n",
    "We can add a set of obstacles $\\mathcal{S}_O \\subseteq \\mathcal{S}$ to the grid by setting $c_s = M \\ll -1$ for $s \\in \\mathcal{S}_O$.\n",
    "\n",
    "In __[Chow et al, NIPS '15](https://proceedings.neurips.cc/paper/2015/hash/64223ccf70bbb65a3a4aceac37e21016-Abstract.html)__ one has $M = {2}/{(1-\\gamma)}$ for the discount factor $\\gamma$.\n",
    "\n",
    "\n",
    "We will add some jitter to the reward vector to ensure non-degeneracy."
   ]
  },
  {
   "cell_type": "code",
   "execution_count": 24,
   "id": "c933afc9",
   "metadata": {},
   "outputs": [],
   "source": [
    "r = -expected_reward_vector(m,n,discount,final,obstacles,P,epsilon=epsilon)"
   ]
  },
  {
   "cell_type": "markdown",
   "id": "60e7d4be",
   "metadata": {},
   "source": [
    "## Risk\n",
    "\n",
    "We'll define a risk vector $d \\in \\mathbb{R}^{\\vert S \\vert \\times \\vert \\mathcal{A} \\vert}$ weighed against moving along the upper or lower edges of the grid (this will ensure no cell is degenerate).\n",
    "\n",
    "We will also add a bit of additional risk for either doing nothing or walking into the boundary.\n",
    "\n",
    "There is a non-zero lower bound on risk to avoid \"exploding\" ratio for epsilon risks.\n",
    "\n",
    "We will add some jitter to the reward vector to ensure non-degeneracy."
   ]
  },
  {
   "cell_type": "code",
   "execution_count": 25,
   "id": "3f21e150",
   "metadata": {},
   "outputs": [],
   "source": [
    "d = -expected_risk_vector(m,n,epsilon=epsilon)"
   ]
  },
  {
   "cell_type": "markdown",
   "id": "0c2b8f78",
   "metadata": {},
   "source": [
    "## Sample Policy\n",
    "\n",
    "A policy $\\pi: \\mathcal{S} \\rightarrow \\Delta_{\\mathcal{A}}$ is a map from states to distributions over $\\mathcal{A}$."
   ]
  },
  {
   "cell_type": "code",
   "execution_count": 26,
   "id": "0fde6043",
   "metadata": {},
   "outputs": [],
   "source": [
    "p = sample_policy(states,actions,is_deterministic=False,beta=0.1)"
   ]
  },
  {
   "cell_type": "code",
   "execution_count": 27,
   "id": "232604ab",
   "metadata": {},
   "outputs": [
    {
     "data": {
      "image/png": "[encoded data removed]",
      "text/plain": [
       "<Figure size 540x432 with 1 Axes>"
      ]
     },
     "metadata": {
      "needs_background": "light"
     },
     "output_type": "display_data"
    }
   ],
   "source": [
    "plot_policy(p,states,actions,m,n,final,obstacles=obstacles)"
   ]
  },
  {
   "cell_type": "markdown",
   "id": "446bee93",
   "metadata": {},
   "source": [
    "## Optimal Policy\n",
    "\n",
    "The optimal policy for EMRDP, phrased in terms of the occupancy measure $\\rho^\\pi \\in \\mathbb{R}^{\\vert S \\vert \\times \\vert \\mathcal{A} \\vert}$ of $\\pi$, is formulated for this problem as\n",
    "\n",
    "$$\\min_{\\pi} \\bigg\\{ \\frac{r^T \\rho^\\pi}{d^T \\rho^\\pi} \\,\\bigg| \\, Q\\rho^\\pi=\\mu, \\rho^\\pi \\geq 0 \\bigg\\} $$\n",
    "\n",
    "In the discounted model, \n",
    "$$\\begin{align*}\n",
    "    Q = \\bigg[ I-\\gamma P(a_1) \\, \\bigg| \\,\\cdots\\, \\bigg|\\, I - \\gamma P(a_k) \\bigg] , \\quad\n",
    "\\end{align*}$$\n",
    "\n",
    "for $\\mathcal{A} = \\{a_1,\\ldots,a_k\\}$, some initial state distribution $\\mu$, and discount factor $\\gamma$."
   ]
  },
  {
   "cell_type": "code",
   "execution_count": 28,
   "id": "85b5596c",
   "metadata": {},
   "outputs": [],
   "source": [
    "Q = discounted_probability_matrix(m,n,discount,delta,tol=tol)"
   ]
  },
  {
   "cell_type": "markdown",
   "id": "52a9cab6",
   "metadata": {},
   "source": [
    "The row vector $(1,\\ldots,1) \\in \\mathbb{R}^{\\vert \\mathcal{S} \\vert}$ is an eigenvector of $Q$ for the  eigenvalue $(1-\\gamma)$."
   ]
  },
  {
   "cell_type": "code",
   "execution_count": 29,
   "id": "344b3ddf",
   "metadata": {},
   "outputs": [
    {
     "data": {
      "text/plain": [
       "array([[1., 1., 1., 1., 1., 1., 1., 1., 1., 1., 1., 1., 1., 1., 1., 1.,\n",
       "        1., 1., 1., 1., 1., 1., 1., 1., 1., 1., 1., 1., 1., 1., 1., 1.,\n",
       "        1., 1., 1., 1., 1., 1., 1., 1., 1., 1., 1., 1., 1., 1., 1., 1.,\n",
       "        1., 1., 1., 1., 1., 1., 1., 1., 1., 1., 1., 1., 1., 1., 1., 1.,\n",
       "        1., 1., 1., 1., 1., 1., 1., 1., 1., 1., 1., 1., 1., 1., 1., 1.,\n",
       "        1., 1., 1., 1., 1., 1., 1., 1., 1., 1., 1., 1., 1., 1., 1., 1.,\n",
       "        1., 1., 1., 1.]])"
      ]
     },
     "execution_count": 29,
     "metadata": {},
     "output_type": "execute_result"
    }
   ],
   "source": [
    "np.ones((1,Q.shape[0])) @ Q / (1-discount)"
   ]
  },
  {
   "cell_type": "markdown",
   "id": "dbb829b4",
   "metadata": {},
   "source": [
    "Algorithm for finding the true optimal policy."
   ]
  },
  {
   "cell_type": "code",
   "execution_count": 30,
   "id": "da38330b",
   "metadata": {},
   "outputs": [
    {
     "name": "stdout",
     "output_type": "stream",
     "text": [
      "--------------------------------------\n",
      "Switch action at: (s,a) = (14,D)\n",
      "Next risk: -5.008, Next reward: -1.274\n",
      "--------------------------------------\n",
      "--------------------------------------\n",
      "Switch action at: (s,a) = (13,R)\n",
      "Next risk: -5.005, Next reward: -1.214\n",
      "--------------------------------------\n",
      "--------------------------------------\n",
      "Switch action at: (s,a) = (9,D)\n",
      "Next risk: -5.000, Next reward: -1.088\n",
      "--------------------------------------\n",
      "--------------------------------------\n",
      "Switch action at: (s,a) = (6,R)\n",
      "Next risk: -4.994, Next reward: -0.959\n",
      "--------------------------------------\n",
      "--------------------------------------\n",
      "Switch action at: (s,a) = (17,N)\n",
      "Next risk: -4.988, Next reward: -0.852\n",
      "--------------------------------------\n",
      "--------------------------------------\n",
      "Switch action at: (s,a) = (17,R)\n",
      "Next risk: -4.981, Next reward: -0.838\n",
      "--------------------------------------\n",
      "--------------------------------------\n",
      "Switch action at: (s,a) = (8,D)\n",
      "Next risk: -4.980, Next reward: -0.837\n",
      "--------------------------------------\n",
      "--------------------------------------\n",
      "Switch action at: (s,a) = (19,D)\n",
      "Next risk: -4.339, Next reward: -0.517\n",
      "--------------------------------------\n",
      "--------------------------------------\n",
      "Switch action at: (s,a) = (18,R)\n",
      "Next risk: -4.305, Next reward: -0.506\n",
      "--------------------------------------\n",
      "--------------------------------------\n",
      "Switch action at: (s,a) = (16,R)\n",
      "Next risk: -4.259, Next reward: -0.497\n",
      "--------------------------------------\n",
      "--------------------------------------\n",
      "Switch action at: (s,a) = (15,R)\n",
      "Next risk: -4.210, Next reward: -0.490\n",
      "--------------------------------------\n",
      "--------------------------------------\n",
      "Switch action at: (s,a) = (11,D)\n",
      "Next risk: -4.139, Next reward: -0.481\n",
      "--------------------------------------\n",
      "--------------------------------------\n",
      "Switch action at: (s,a) = (10,R)\n",
      "Next risk: -4.106, Next reward: -0.477\n",
      "--------------------------------------\n",
      "--------------------------------------\n",
      "Switch action at: (s,a) = (10,D)\n",
      "Next risk: -4.094, Next reward: -0.477\n",
      "--------------------------------------\n",
      "--------------------------------------\n",
      "Switch action at: (s,a) = (19,R)\n",
      "Next risk: -4.077, Next reward: -0.477\n",
      "--------------------------------------\n",
      "--------------------------------------\n",
      "Switch action at: (s,a) = (3,R)\n",
      "Next risk: -4.063, Next reward: -0.477\n",
      "--------------------------------------\n"
     ]
    }
   ],
   "source": [
    "rhos, rewards, risks, success = optimal_policy(states,actions,Q,r,d,state_dist,discount,tol)"
   ]
  },
  {
   "cell_type": "code",
   "execution_count": 31,
   "id": "e267bd82",
   "metadata": {},
   "outputs": [
    {
     "name": "stdout",
     "output_type": "stream",
     "text": [
      "Policy optimization successful: True\n"
     ]
    }
   ],
   "source": [
    "print('Policy optimization successful: {}'.format(success))"
   ]
  },
  {
   "cell_type": "code",
   "execution_count": 32,
   "id": "674044b8",
   "metadata": {},
   "outputs": [],
   "source": [
    "# sanity check: all rhos are occupation measures\n",
    "\n",
    "A = np.vstack([Q,d.T])\n",
    "\n",
    "for rho in rhos:\n",
    "    occupation_measure_sanity(rho,A,state_dist,discount,tol*100)"
   ]
  },
  {
   "cell_type": "markdown",
   "id": "a33353bd",
   "metadata": {},
   "source": [
    "Plot algorithm results for finding the true optimal policy."
   ]
  },
  {
   "cell_type": "code",
   "execution_count": 33,
   "id": "439faabf",
   "metadata": {},
   "outputs": [
    {
     "name": "stdout",
     "output_type": "stream",
     "text": [
      "Iteration 0: reward -1.327, risk -5.010, ratio: 0.265\n",
      "Iteration 1: reward -1.274, risk -5.008, ratio: 0.254\n",
      "Iteration 2: reward -1.214, risk -5.005, ratio: 0.243\n",
      "Iteration 3: reward -1.088, risk -5.000, ratio: 0.218\n",
      "Iteration 4: reward -0.959, risk -4.994, ratio: 0.192\n",
      "Iteration 5: reward -0.852, risk -4.988, ratio: 0.171\n",
      "Iteration 6: reward -0.838, risk -4.981, ratio: 0.168\n",
      "Iteration 7: reward -0.837, risk -4.980, ratio: 0.168\n",
      "Iteration 8: reward -0.517, risk -4.339, ratio: 0.119\n",
      "Iteration 9: reward -0.506, risk -4.305, ratio: 0.118\n",
      "Iteration 10: reward -0.497, risk -4.259, ratio: 0.117\n",
      "Iteration 11: reward -0.490, risk -4.210, ratio: 0.116\n",
      "Iteration 12: reward -0.481, risk -4.139, ratio: 0.116\n",
      "Iteration 13: reward -0.477, risk -4.106, ratio: 0.116\n",
      "Iteration 14: reward -0.477, risk -4.094, ratio: 0.117\n",
      "Iteration 15: reward -0.477, risk -4.077, ratio: 0.117\n",
      "Iteration 16: reward -0.477, risk -4.063, ratio: 0.117\n"
     ]
    }
   ],
   "source": [
    "for i, (re, ri) in enumerate(zip(rewards, risks)):\n",
    "    print('Iteration {}: reward {:.3f}, risk {:.3f}, ratio: {:.3f}'.format(i,(re),ri,(re)/(ri)))"
   ]
  },
  {
   "cell_type": "code",
   "execution_count": 34,
   "id": "8d0e7ded",
   "metadata": {},
   "outputs": [
    {
     "data": {
      "image/png": "[encoded data removed]",
      "text/plain": [
       "<Figure size 540x432 with 1 Axes>"
      ]
     },
     "metadata": {
      "needs_background": "light"
     },
     "output_type": "display_data"
    }
   ],
   "source": [
    "i = -1\n",
    "\n",
    "p = get_policy(np.around(rhos[i],atol), states, actions)\n",
    "\n",
    "plot_policy(p,states,actions,m,n,final,obstacles=obstacles)"
   ]
  },
  {
   "cell_type": "code",
   "execution_count": 35,
   "id": "d03273da",
   "metadata": {},
   "outputs": [
    {
     "data": {
      "image/png": "[encoded data removed]",
      "text/plain": [
       "<Figure size 540x432 with 1 Axes>"
      ]
     },
     "metadata": {
      "needs_background": "light"
     },
     "output_type": "display_data"
    }
   ],
   "source": [
    "plot_occupation_measure(rhos[-1],states,actions,m,n,tol=tol)"
   ]
  },
  {
   "cell_type": "code",
   "execution_count": 36,
   "id": "69559c22",
   "metadata": {},
   "outputs": [
    {
     "data": {
      "image/png": "[encoded data removed]",
      "text/plain": [
       "<Figure size 1224x360 with 1 Axes>"
      ]
     },
     "metadata": {
      "needs_background": "light"
     },
     "output_type": "display_data"
    }
   ],
   "source": [
    "plot_reward(risks, rewards, atol=2, figsize=(17,5))"
   ]
  },
  {
   "cell_type": "code",
   "execution_count": 37,
   "id": "9b8b1556",
   "metadata": {},
   "outputs": [
    {
     "data": {
      "image/png": "[encoded data removed]",
      "text/plain": [
       "<Figure size 1224x360 with 1 Axes>"
      ]
     },
     "metadata": {
      "needs_background": "light"
     },
     "output_type": "display_data"
    }
   ],
   "source": [
    "plot_ratio(risks, rewards, atol=2, figsize=(17,5))"
   ]
  },
  {
   "cell_type": "markdown",
   "id": "ebe8103f",
   "metadata": {},
   "source": [
    "## Policy Noising\n",
    "\n",
    "Add noise to the optimal policy."
   ]
  },
  {
   "cell_type": "code",
   "execution_count": 38,
   "id": "cad665de",
   "metadata": {},
   "outputs": [],
   "source": [
    "p_opt = get_policy(np.around(rhos[-1],atol), states, actions)"
   ]
  },
  {
   "cell_type": "code",
   "execution_count": 39,
   "id": "0baef511",
   "metadata": {},
   "outputs": [],
   "source": [
    "p_opt_noise = policy_noising(p_opt, noise, states, actions, state_dist, discount, P)"
   ]
  },
  {
   "cell_type": "markdown",
   "id": "008c140d",
   "metadata": {},
   "source": [
    "## Policy Data\n",
    "\n",
    "Generate tabular data from the noised optimal policy.\n",
    "\n",
    "Policy data, as well as all other data necessary for reproducibility, will be pickled."
   ]
  },
  {
   "cell_type": "code",
   "execution_count": 40,
   "id": "88f048ea",
   "metadata": {},
   "outputs": [],
   "source": [
    "policy_data_id = generate_id()\n",
    "now = datetime.now().strftime('%Y-%m-%d-%H%M')"
   ]
  },
  {
   "cell_type": "code",
   "execution_count": 41,
   "id": "72c3fae5",
   "metadata": {},
   "outputs": [],
   "source": [
    "df = policy_data(p_opt_noise,init_state,T,states,actions,m,n,P,r,d)"
   ]
  },
  {
   "cell_type": "code",
   "execution_count": 42,
   "id": "9c4cc137",
   "metadata": {},
   "outputs": [],
   "source": [
    "data = {\n",
    "    'm': m,\n",
    "    'n': n,\n",
    "    'final': final,\n",
    "    'obstacles': obstacles,\n",
    "    'init_state': init_state,\n",
    "    'state_dist': state_dist,\n",
    "    'discount': discount,\n",
    "    'delta': delta,\n",
    "    'tol': tol,\n",
    "    'noise': noise,\n",
    "    'epsilon': epsilon,\n",
    "    'P': P,\n",
    "    'r': r,\n",
    "    'd': d,\n",
    "    'p_data': p_opt_noise,\n",
    "    'p_opt': p_opt,\n",
    "    'pareto_rewards': rewards,\n",
    "    'pareto_risks': risks,\n",
    "    'pareto_rhos': rhos,\n",
    "    'df': df,\n",
    "    'policy_data_id': policy_data_id,\n",
    "    'timestamp': now\n",
    "}"
   ]
  },
  {
   "cell_type": "code",
   "execution_count": 43,
   "id": "8bf5a78d",
   "metadata": {},
   "outputs": [],
   "source": [
    "p_file = 'grid_world_data_{}.pickle'.format(policy_data_id)\n",
    "p_path = os.path.join(root,p_file)\n",
    "\n",
    "with open(p_path, 'wb') as handle:\n",
    "    pickle.dump(data, handle, protocol=pickle.HIGHEST_PROTOCOL)"
   ]
  },
  {
   "cell_type": "code",
   "execution_count": 44,
   "id": "eed39ec0",
   "metadata": {},
   "outputs": [
    {
     "data": {
      "text/html": [
       "<div>\n",
       "<style scoped>\n",
       "    .dataframe tbody tr th:only-of-type {\n",
       "        vertical-align: middle;\n",
       "    }\n",
       "\n",
       "    .dataframe tbody tr th {\n",
       "        vertical-align: top;\n",
       "    }\n",
       "\n",
       "    .dataframe thead th {\n",
       "        text-align: right;\n",
       "    }\n",
       "</style>\n",
       "<table border=\"1\" class=\"dataframe\">\n",
       "  <thead>\n",
       "    <tr style=\"text-align: right;\">\n",
       "      <th></th>\n",
       "      <th>state_i</th>\n",
       "      <th>state_j</th>\n",
       "      <th>action</th>\n",
       "      <th>reward</th>\n",
       "      <th>risk</th>\n",
       "    </tr>\n",
       "  </thead>\n",
       "  <tbody>\n",
       "    <tr>\n",
       "      <th>0</th>\n",
       "      <td>2</td>\n",
       "      <td>1</td>\n",
       "      <td>1</td>\n",
       "      <td>-1.189985</td>\n",
       "      <td>-4.999219</td>\n",
       "    </tr>\n",
       "    <tr>\n",
       "      <th>1</th>\n",
       "      <td>3</td>\n",
       "      <td>1</td>\n",
       "      <td>3</td>\n",
       "      <td>-1.198804</td>\n",
       "      <td>-1.005982</td>\n",
       "    </tr>\n",
       "    <tr>\n",
       "      <th>2</th>\n",
       "      <td>3</td>\n",
       "      <td>2</td>\n",
       "      <td>3</td>\n",
       "      <td>-1.200948</td>\n",
       "      <td>-1.016239</td>\n",
       "    </tr>\n",
       "    <tr>\n",
       "      <th>3</th>\n",
       "      <td>3</td>\n",
       "      <td>3</td>\n",
       "      <td>3</td>\n",
       "      <td>-0.256871</td>\n",
       "      <td>-1.025210</td>\n",
       "    </tr>\n",
       "    <tr>\n",
       "      <th>4</th>\n",
       "      <td>3</td>\n",
       "      <td>4</td>\n",
       "      <td>3</td>\n",
       "      <td>-0.255924</td>\n",
       "      <td>-3.986113</td>\n",
       "    </tr>\n",
       "  </tbody>\n",
       "</table>\n",
       "</div>"
      ],
      "text/plain": [
       "   state_i  state_j  action    reward      risk\n",
       "0        2        1       1 -1.189985 -4.999219\n",
       "1        3        1       3 -1.198804 -1.005982\n",
       "2        3        2       3 -1.200948 -1.016239\n",
       "3        3        3       3 -0.256871 -1.025210\n",
       "4        3        4       3 -0.255924 -3.986113"
      ]
     },
     "execution_count": 44,
     "metadata": {},
     "output_type": "execute_result"
    }
   ],
   "source": [
    "with open(p_path, 'rb') as handle:\n",
    "    data = pickle.load(handle)\n",
    "\n",
    "data['df'].head()"
   ]
  },
  {
   "cell_type": "markdown",
   "id": "4cb67e83",
   "metadata": {},
   "source": [
    "## Test\n",
    "\n",
    "Test a policy (manually defined) when the grid is of dimensions **3x3** and there are **no obstacles**."
   ]
  },
  {
   "cell_type": "code",
   "execution_count": 45,
   "id": "9d48beb2",
   "metadata": {},
   "outputs": [],
   "source": [
    "if m==3 and n==3:\n",
    "    \n",
    "    p_test = {0: np.array([0., 1., 0., 0., 0.]),\n",
    "              1: np.array([0., 1., 0., 0., 0.]),\n",
    "              2: np.array([0., 1., 0., 0., 0.]),\n",
    "              3: np.array([0., 0., 0., 1., 0.]),\n",
    "              4: np.array([0., 0., 0., 1., 0.]),\n",
    "              5: np.array([0., 1., 0., 0., 0.]),\n",
    "              6: np.array([1., 0., 0., 0., 0.]),\n",
    "              7: np.array([1., 0., 0., 0., 0.]),\n",
    "              8: np.array([0., 1., 0., 0., 0.])}"
   ]
  },
  {
   "cell_type": "code",
   "execution_count": 46,
   "id": "976210c6",
   "metadata": {},
   "outputs": [],
   "source": [
    "if m==3 and n==3:\n",
    "\n",
    "    rho_test = occupation_measure(p_test,state_dist,discount,P,tol)\n",
    "    occupation_measure_sanity(rho_test,A,state_dist,discount,tol*10)"
   ]
  },
  {
   "cell_type": "code",
   "execution_count": 47,
   "id": "436de9dc",
   "metadata": {},
   "outputs": [],
   "source": [
    "if m==3 and n==3:\n",
    "\n",
    "    reward_test, risk_test, ratio_test = get_ratio(rho_test, r, d)\n",
    "\n",
    "    print('Test Reward: {:3f}\\nTest Risk: {:3f}\\nTest Ratio: {:3f}'.format(reward_test,risk_test,ratio_test))"
   ]
  },
  {
   "cell_type": "code",
   "execution_count": 48,
   "id": "a4c943c4",
   "metadata": {
    "scrolled": true
   },
   "outputs": [],
   "source": [
    "if m==3 and n==3:\n",
    "\n",
    "    plot_policy(p_test,states,actions,m,n,final,obstacles=obstacles)"
   ]
  },
  {
   "cell_type": "code",
   "execution_count": 49,
   "id": "97a4609a",
   "metadata": {},
   "outputs": [],
   "source": [
    "if m==3 and n==3:\n",
    "\n",
    "    plot_occupation_measure(rho_test,states,actions,m,n)"
   ]
  },
  {
   "cell_type": "code",
   "execution_count": 50,
   "id": "5855fdb7",
   "metadata": {},
   "outputs": [],
   "source": [
    "if m==3 and n==3:\n",
    "\n",
    "    p_test_retrieve = get_policy(rho_test,states,actions)\n",
    "    retrieved = all([np.all(np.isclose(p_test[s],p_test_retrieve[s],atol=tol)) for s in states])\n",
    "    print('(Sanity Check) Test policy retrieved: {}'.format(retrieved))"
   ]
  }
 ],
 "metadata": {
  "kernelspec": {
   "display_name": "Python 3 (ipykernel)",
   "language": "python",
   "name": "python3"
  },
  "language_info": {
   "codemirror_mode": {
    "name": "ipython",
    "version": 3
   },
   "file_extension": ".py",
   "mimetype": "text/x-python",
   "name": "python",
   "nbconvert_exporter": "python",
   "pygments_lexer": "ipython3",
   "version": "3.8.0"
  }
 },
 "nbformat": 4,
 "nbformat_minor": 5
}
